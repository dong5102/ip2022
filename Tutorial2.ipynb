{
  "nbformat": 4,
  "nbformat_minor": 0,
  "metadata": {
    "colab": {
      "provenance": []
    },
    "kernelspec": {
      "name": "python3",
      "display_name": "Python 3"
    },
    "language_info": {
      "name": "python"
    }
  },
  "cells": [
    {
      "cell_type": "code",
      "execution_count": 1,
      "metadata": {
        "colab": {
          "base_uri": "https://localhost:8080/"
        },
        "id": "smjNxNbEAZDA",
        "outputId": "f5d7218b-eed9-41b0-d568-95a5e136821e"
      },
      "outputs": [
        {
          "output_type": "execute_result",
          "data": {
            "text/plain": [
              "['dsu', 24, 3.14, 123]"
            ]
          },
          "metadata": {},
          "execution_count": 1
        }
      ],
      "source": [
        "li = [\"dsu\", 23, 3.14, 123]\n",
        "\n",
        "li[1] = 24\n",
        "\n",
        "li"
      ]
    },
    {
      "cell_type": "code",
      "source": [
        "t = (23, \"dsu\", 4.56, (2,3), \"abc\")\n",
        "\n",
        "t[2] = 3.14 \n",
        "# 튜플의 오브젝트는 immutable하기 때문에 에러발생"
      ],
      "metadata": {
        "colab": {
          "base_uri": "https://localhost:8080/",
          "height": 211
        },
        "id": "5ZgyZ0_JAjCU",
        "outputId": "e80f87c9-e6c6-4b57-85c1-9e8463539bbe"
      },
      "execution_count": 3,
      "outputs": [
        {
          "output_type": "error",
          "ename": "TypeError",
          "evalue": "ignored",
          "traceback": [
            "\u001b[0;31m---------------------------------------------------------------------------\u001b[0m",
            "\u001b[0;31mTypeError\u001b[0m                                 Traceback (most recent call last)",
            "\u001b[0;32m<ipython-input-3-96428f09a305>\u001b[0m in \u001b[0;36m<module>\u001b[0;34m\u001b[0m\n\u001b[1;32m      1\u001b[0m \u001b[0mt\u001b[0m \u001b[0;34m=\u001b[0m \u001b[0;34m(\u001b[0m\u001b[0;36m23\u001b[0m\u001b[0;34m,\u001b[0m \u001b[0;34m\"dsu\"\u001b[0m\u001b[0;34m,\u001b[0m \u001b[0;36m4.56\u001b[0m\u001b[0;34m,\u001b[0m \u001b[0;34m(\u001b[0m\u001b[0;36m2\u001b[0m\u001b[0;34m,\u001b[0m\u001b[0;36m3\u001b[0m\u001b[0;34m)\u001b[0m\u001b[0;34m,\u001b[0m \u001b[0;34m\"abc\"\u001b[0m\u001b[0;34m)\u001b[0m\u001b[0;34m\u001b[0m\u001b[0;34m\u001b[0m\u001b[0m\n\u001b[1;32m      2\u001b[0m \u001b[0;34m\u001b[0m\u001b[0m\n\u001b[0;32m----> 3\u001b[0;31m \u001b[0mt\u001b[0m\u001b[0;34m[\u001b[0m\u001b[0;36m2\u001b[0m\u001b[0;34m]\u001b[0m \u001b[0;34m=\u001b[0m \u001b[0;36m3.14\u001b[0m\u001b[0;34m\u001b[0m\u001b[0;34m\u001b[0m\u001b[0m\n\u001b[0m",
            "\u001b[0;31mTypeError\u001b[0m: 'tuple' object does not support item assignment"
          ]
        }
      ]
    },
    {
      "cell_type": "code",
      "source": [
        "t = (23, \"dsu\", 4.56, (2,3), \"abc\")\n",
        "\n",
        "print(t)\n",
        "\n",
        "t = (24, \"DSU\", 3.14, (2,3), \"ABC\") # 아예 같은이름으로 튜플을 재정의하면 오류가 발생하지않는다\n",
        "\n",
        "print(t)"
      ],
      "metadata": {
        "colab": {
          "base_uri": "https://localhost:8080/"
        },
        "id": "rpmSV9aBAyYM",
        "outputId": "01adcfaa-3a32-4700-b7a3-d3ba45bece26"
      },
      "execution_count": 6,
      "outputs": [
        {
          "output_type": "stream",
          "name": "stdout",
          "text": [
            "(23, 'dsu', 4.56, (2, 3), 'abc')\n",
            "(24, 'DSU', 3.14, (2, 3), 'ABC')\n"
          ]
        }
      ]
    },
    {
      "cell_type": "code",
      "source": [
        "li = [1, 11, 3, 4, 5]\n",
        "\n",
        "li.append(\"d\") # 마지막에 추가\n",
        "\n",
        "print(li)\n",
        "\n",
        "li.insert(1, \"s\") # 중간에 삽입\n",
        "\n",
        "print(li)\n"
      ],
      "metadata": {
        "colab": {
          "base_uri": "https://localhost:8080/"
        },
        "id": "USi8CbZ4BGO1",
        "outputId": "ad14e31e-943b-4f70-d70f-6a1c375f196a"
      },
      "execution_count": 11,
      "outputs": [
        {
          "output_type": "stream",
          "name": "stdout",
          "text": [
            "[1, 11, 3, 4, 5, 'd']\n",
            "[1, 's', 11, 3, 4, 5, 'd']\n"
          ]
        }
      ]
    },
    {
      "cell_type": "code",
      "source": [
        "li.extend([7, 8, 9]) \n",
        "\n",
        "li"
      ],
      "metadata": {
        "colab": {
          "base_uri": "https://localhost:8080/"
        },
        "id": "XA4itfphBgl2",
        "outputId": "53518f08-185b-4ac6-9009-786b13e5ff38"
      },
      "execution_count": 12,
      "outputs": [
        {
          "output_type": "execute_result",
          "data": {
            "text/plain": [
              "[1, 's', 11, 3, 4, 5, 'd', 9, 8, 7]"
            ]
          },
          "metadata": {},
          "execution_count": 12
        }
      ]
    },
    {
      "cell_type": "code",
      "source": [
        "li.append([10, 11, 12])\n",
        "\n",
        "li"
      ],
      "metadata": {
        "colab": {
          "base_uri": "https://localhost:8080/"
        },
        "id": "3-RrCNFTCTJ9",
        "outputId": "4ddedd18-4788-4c4a-b94c-70f1b50404bf"
      },
      "execution_count": 13,
      "outputs": [
        {
          "output_type": "execute_result",
          "data": {
            "text/plain": [
              "[1, 's', 11, 3, 4, 5, 'd', 9, 8, 7, [10, 11, 12]]"
            ]
          },
          "metadata": {},
          "execution_count": 13
        }
      ]
    },
    {
      "cell_type": "code",
      "source": [
        "li = [\"d\", \"s\", \"u\", \"a\"]\n",
        "\n",
        "li.index(\"u\")\n",
        "\n",
        "print(li)\n",
        "\n",
        "li.remove(\"a\")\n",
        "\n",
        "li"
      ],
      "metadata": {
        "colab": {
          "base_uri": "https://localhost:8080/"
        },
        "id": "FRLKYvkTCYEk",
        "outputId": "81d548e9-f367-420d-e805-681c12e2b863"
      },
      "execution_count": 23,
      "outputs": [
        {
          "output_type": "stream",
          "name": "stdout",
          "text": [
            "['d', 's', 'u', 'a']\n"
          ]
        },
        {
          "output_type": "execute_result",
          "data": {
            "text/plain": [
              "['d', 's', 'u']"
            ]
          },
          "metadata": {},
          "execution_count": 23
        }
      ]
    },
    {
      "cell_type": "code",
      "source": [
        "li.count(\"u\")"
      ],
      "metadata": {
        "colab": {
          "base_uri": "https://localhost:8080/"
        },
        "id": "haOiunliCn0E",
        "outputId": "6f597219-dd86-4fe8-e197-7eb05dfd022e"
      },
      "execution_count": 24,
      "outputs": [
        {
          "output_type": "execute_result",
          "data": {
            "text/plain": [
              "1"
            ]
          },
          "metadata": {},
          "execution_count": 24
        }
      ]
    },
    {
      "cell_type": "code",
      "source": [
        "li = [5, 2, 3, 6]\n",
        "\n",
        "li.reverse()\n",
        "\n",
        "print(li)\n",
        "\n",
        "li.sort()\n",
        "\n",
        "li"
      ],
      "metadata": {
        "colab": {
          "base_uri": "https://localhost:8080/"
        },
        "id": "aIGJn1aSCrIM",
        "outputId": "308499f0-b6c5-45ca-d4b4-d42bb97d2247"
      },
      "execution_count": 26,
      "outputs": [
        {
          "output_type": "stream",
          "name": "stdout",
          "text": [
            "[6, 3, 2, 5]\n"
          ]
        },
        {
          "output_type": "execute_result",
          "data": {
            "text/plain": [
              "[2, 3, 5, 6]"
            ]
          },
          "metadata": {},
          "execution_count": 26
        }
      ]
    },
    {
      "cell_type": "code",
      "source": [
        "tu = tuple(li) # 리스트를 튜플로 변환\n",
        "\n",
        "print(tu)\n",
        "\n",
        "li = list(tu) # 튜플을 리스트로  변환\n",
        "\n",
        "li"
      ],
      "metadata": {
        "colab": {
          "base_uri": "https://localhost:8080/"
        },
        "id": "Hx9NmjAMCyMt",
        "outputId": "b71ddbf1-c11e-43e5-95a9-d736659cd301"
      },
      "execution_count": 30,
      "outputs": [
        {
          "output_type": "stream",
          "name": "stdout",
          "text": [
            "(2, 3, 5, 6)\n"
          ]
        },
        {
          "output_type": "execute_result",
          "data": {
            "text/plain": [
              "[2, 3, 5, 6]"
            ]
          },
          "metadata": {},
          "execution_count": 30
        }
      ]
    },
    {
      "cell_type": "code",
      "source": [],
      "metadata": {
        "id": "wGIpEb00DT98"
      },
      "execution_count": null,
      "outputs": []
    }
  ]
}