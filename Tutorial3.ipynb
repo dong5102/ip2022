{
  "nbformat": 4,
  "nbformat_minor": 0,
  "metadata": {
    "colab": {
      "provenance": []
    },
    "kernelspec": {
      "name": "python3",
      "display_name": "Python 3"
    },
    "language_info": {
      "name": "python"
    }
  },
  "cells": [
    {
      "cell_type": "code",
      "execution_count": 5,
      "metadata": {
        "colab": {
          "base_uri": "https://localhost:8080/"
        },
        "id": "6La41JcqujBx",
        "outputId": "19a77677-97d9-49a4-a1bf-e8619ddcdb4f"
      },
      "outputs": [
        {
          "output_type": "stream",
          "name": "stdout",
          "text": [
            "xhfal\n",
            "123\n"
          ]
        }
      ],
      "source": [
        "d = {\"user\" : \"xhfal\", \"pswd\" : 123}\n",
        "\n",
        "print(d[\"user\"])\n",
        "print(d[\"pswd\"])\n"
      ]
    },
    {
      "cell_type": "code",
      "source": [
        "d[\"xhfal\"] # 키에러 발생"
      ],
      "metadata": {
        "colab": {
          "base_uri": "https://localhost:8080/",
          "height": 166
        },
        "id": "4fansST9uyow",
        "outputId": "cb7a3eae-40ac-4db1-a06d-1fdbdb0a7b89"
      },
      "execution_count": 6,
      "outputs": [
        {
          "output_type": "error",
          "ename": "KeyError",
          "evalue": "ignored",
          "traceback": [
            "\u001b[0;31m---------------------------------------------------------------------------\u001b[0m",
            "\u001b[0;31mKeyError\u001b[0m                                  Traceback (most recent call last)",
            "\u001b[0;32m<ipython-input-6-998f25307672>\u001b[0m in \u001b[0;36m<module>\u001b[0;34m\u001b[0m\n\u001b[0;32m----> 1\u001b[0;31m \u001b[0md\u001b[0m\u001b[0;34m[\u001b[0m\u001b[0;34m\"xhfal\"\u001b[0m\u001b[0;34m]\u001b[0m\u001b[0;34m\u001b[0m\u001b[0;34m\u001b[0m\u001b[0m\n\u001b[0m",
            "\u001b[0;31mKeyError\u001b[0m: 'xhfal'"
          ]
        }
      ]
    },
    {
      "cell_type": "code",
      "source": [
        "d = {\"user\" : \"xhfal\", \"pswd\" : 123}\n",
        "\n",
        "d[\"user\"] = \"dsu\" # user의 값을 업데이트하는방법\n",
        "\n",
        "d\n"
      ],
      "metadata": {
        "colab": {
          "base_uri": "https://localhost:8080/"
        },
        "id": "lNgnirpHvFAq",
        "outputId": "430818e3-a568-4d08-9d5b-60e0c1cef2ec"
      },
      "execution_count": 11,
      "outputs": [
        {
          "output_type": "execute_result",
          "data": {
            "text/plain": [
              "{'user': 'dsu', 'pswd': 123}"
            ]
          },
          "metadata": {},
          "execution_count": 11
        }
      ]
    },
    {
      "cell_type": "code",
      "source": [
        "d[\"id\"] = 20181640\n",
        "\n",
        "# 새로운 키와 값을 입력하면 업데이트가 아닌 추가가 된다\n",
        "\n",
        "d"
      ],
      "metadata": {
        "colab": {
          "base_uri": "https://localhost:8080/"
        },
        "id": "lCIEHRr0vMDM",
        "outputId": "4d1c481c-18d5-4483-a588-911733bddf45"
      },
      "execution_count": 12,
      "outputs": [
        {
          "output_type": "execute_result",
          "data": {
            "text/plain": [
              "{'user': 'dsu', 'pswd': 123, 'id': 20181640}"
            ]
          },
          "metadata": {},
          "execution_count": 12
        }
      ]
    },
    {
      "cell_type": "code",
      "source": [
        "d = {'user': 'dsu', 'pswd': 123, 'id': 20181640}\n",
        "\n",
        "del d [\"user\"] # 키를 삭제\n",
        "\n",
        "d"
      ],
      "metadata": {
        "colab": {
          "base_uri": "https://localhost:8080/"
        },
        "id": "wR2oRmf-vr0W",
        "outputId": "d19fb846-e277-4128-9458-7cce0fe436d0"
      },
      "execution_count": 13,
      "outputs": [
        {
          "output_type": "execute_result",
          "data": {
            "text/plain": [
              "{'pswd': 123, 'id': 20181640}"
            ]
          },
          "metadata": {},
          "execution_count": 13
        }
      ]
    },
    {
      "cell_type": "code",
      "source": [
        "d = {'user': 'dsu', 'pswd': 123, 'id': 20181640}\n",
        "\n",
        "d.clear() # d의 내용물을 전부 삭제\n",
        "\n",
        "d"
      ],
      "metadata": {
        "colab": {
          "base_uri": "https://localhost:8080/"
        },
        "id": "ZUNRmT3bwO3H",
        "outputId": "f55f0181-890d-4810-eea8-c7fdd6fc8288"
      },
      "execution_count": 16,
      "outputs": [
        {
          "output_type": "execute_result",
          "data": {
            "text/plain": [
              "{}"
            ]
          },
          "metadata": {},
          "execution_count": 16
        }
      ]
    },
    {
      "cell_type": "code",
      "source": [
        "a = [1, 2]\n",
        "\n",
        "del a[1] # 삭제할 키의 위치지정 가능\n",
        "\n",
        "a"
      ],
      "metadata": {
        "colab": {
          "base_uri": "https://localhost:8080/"
        },
        "id": "AbTCkSe3wamT",
        "outputId": "92a5c740-f9ff-4e8b-a216-a1288bcb2fe8"
      },
      "execution_count": 18,
      "outputs": [
        {
          "output_type": "execute_result",
          "data": {
            "text/plain": [
              "[1]"
            ]
          },
          "metadata": {},
          "execution_count": 18
        }
      ]
    },
    {
      "cell_type": "code",
      "source": [
        "d = {'user': 'dsu', 'pswd': 123, 'id': 20181640}\n",
        "\n",
        "print(d.keys()) # 키 내용물이 아닌 키 자체를 출력\n",
        "\n",
        "print(d.values()) # 모든 키의 값을 출력\n",
        "\n",
        "print(d.items()) # 요소를 전부 튜플로 변경, 키가 튜플과 마찬가지로 immutable하기 때문에 가능한것처럼 보임\n"
      ],
      "metadata": {
        "colab": {
          "base_uri": "https://localhost:8080/"
        },
        "id": "AE0JHpQwwiJE",
        "outputId": "6ac0d1f2-5e0e-4e30-d63b-5efddc33c8e5"
      },
      "execution_count": 21,
      "outputs": [
        {
          "output_type": "stream",
          "name": "stdout",
          "text": [
            "dict_keys(['user', 'pswd', 'id'])\n",
            "dict_values(['dsu', 123, 20181640])\n",
            "dict_items([('user', 'dsu'), ('pswd', 123), ('id', 20181640)])\n"
          ]
        }
      ]
    },
    {
      "cell_type": "code",
      "source": [],
      "metadata": {
        "id": "FqUEwIQywodI"
      },
      "execution_count": 19,
      "outputs": []
    }
  ]
}