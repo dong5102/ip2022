{
  "nbformat": 4,
  "nbformat_minor": 0,
  "metadata": {
    "colab": {
      "provenance": []
    },
    "kernelspec": {
      "name": "python3",
      "display_name": "Python 3"
    },
    "language_info": {
      "name": "python"
    }
  },
  "cells": [
    {
      "cell_type": "code",
      "execution_count": 1,
      "metadata": {
        "colab": {
          "base_uri": "https://localhost:8080/"
        },
        "id": "nk0OxZZC3cUH",
        "outputId": "3d8ed1f4-187c-4479-b036-a3c75782ea19"
      },
      "outputs": [
        {
          "output_type": "execute_result",
          "data": {
            "text/plain": [
              "[4, 0, 2, 16, 2, 12, 8, 0]"
            ]
          },
          "metadata": {},
          "execution_count": 1
        }
      ],
      "source": [
        "li = [2, 0, 1, 8, 1, 6, 4, 0]\n",
        "\n",
        "[a*2 for a in li]"
      ]
    },
    {
      "cell_type": "code",
      "source": [
        "li = [(\"a\", 2), (\"b\", 0), (\"c\", 1), (\"d\", 8)]\n",
        "\n",
        "[a*2 for (b, a) in li]"
      ],
      "metadata": {
        "colab": {
          "base_uri": "https://localhost:8080/"
        },
        "id": "m6u3-DVE3_Hq",
        "outputId": "5585df9a-c3f9-4222-b8b4-c3948456f1b9"
      },
      "execution_count": 2,
      "outputs": [
        {
          "output_type": "execute_result",
          "data": {
            "text/plain": [
              "[4, 0, 2, 16]"
            ]
          },
          "metadata": {},
          "execution_count": 2
        }
      ]
    },
    {
      "cell_type": "code",
      "source": [
        "li = [2, 0, 1, 8, 1, 6, 4, 0]\n",
        "\n",
        "[a*2 for a in li if a>3] # 3을 초과하는 a의 값는 8 6 4뿐이다"
      ],
      "metadata": {
        "colab": {
          "base_uri": "https://localhost:8080/"
        },
        "id": "P9OyXpx_4cjH",
        "outputId": "f5bbf438-b660-4b90-a230-2c15469bf8f5"
      },
      "execution_count": 4,
      "outputs": [
        {
          "output_type": "execute_result",
          "data": {
            "text/plain": [
              "[16, 12, 8]"
            ]
          },
          "metadata": {},
          "execution_count": 4
        }
      ]
    },
    {
      "cell_type": "code",
      "source": [
        "li = [2, 0, 1, 8, 1, 6, 4, 0]\n",
        "\n",
        "[a*2 for a in\n",
        "  [b+2 for b in li]] #전체 값에 2를 더한 이후 2를 곱한다"
      ],
      "metadata": {
        "colab": {
          "base_uri": "https://localhost:8080/"
        },
        "id": "yZuALX1_4lS-",
        "outputId": "dbbf722a-dca7-40a4-da12-c15d0199459e"
      },
      "execution_count": 7,
      "outputs": [
        {
          "output_type": "execute_result",
          "data": {
            "text/plain": [
              "[8, 4, 6, 20, 6, 16, 12, 4]"
            ]
          },
          "metadata": {},
          "execution_count": 7
        }
      ]
    },
    {
      "cell_type": "code",
      "source": [],
      "metadata": {
        "id": "gDcE7aTJ4yjF"
      },
      "execution_count": null,
      "outputs": []
    }
  ]
}