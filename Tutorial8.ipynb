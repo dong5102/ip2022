{
  "nbformat": 4,
  "nbformat_minor": 0,
  "metadata": {
    "colab": {
      "provenance": []
    },
    "kernelspec": {
      "name": "python3",
      "display_name": "Python 3"
    },
    "language_info": {
      "name": "python"
    }
  },
  "cells": [
    {
      "cell_type": "code",
      "execution_count": 3,
      "metadata": {
        "colab": {
          "base_uri": "https://localhost:8080/"
        },
        "id": "m2ladlr95VPx",
        "outputId": "03858322-8156-4d87-9f0d-1a703fc890ca"
      },
      "outputs": [
        {
          "output_type": "execute_result",
          "data": {
            "text/plain": [
              "30"
            ]
          },
          "metadata": {},
          "execution_count": 3
        }
      ],
      "source": [
        "def func_1(x, y):\n",
        "  return x * y\n",
        "\n",
        "func_1(5, 6)"
      ]
    },
    {
      "cell_type": "code",
      "source": [
        "def func_1(x):\n",
        "  return x*x\n",
        "\n",
        "def apply(a, x):\n",
        "  return a(x)\n",
        "\n",
        "\n",
        "apply(func_1, 6)"
      ],
      "metadata": {
        "colab": {
          "base_uri": "https://localhost:8080/"
        },
        "id": "XlrTVzz25hB_",
        "outputId": "190056de-8d9d-425f-db3c-cc9a9581606f"
      },
      "execution_count": 4,
      "outputs": [
        {
          "output_type": "execute_result",
          "data": {
            "text/plain": [
              "36"
            ]
          },
          "metadata": {},
          "execution_count": 4
        }
      ]
    },
    {
      "cell_type": "code",
      "source": [
        "#람다함수를 사용해도 가능하다\n",
        "\n",
        "def apply(a, x):\n",
        "  return a(x)\n",
        "\n",
        "\n",
        "apply(lambda qwe : qwe * qwe, 9)"
      ],
      "metadata": {
        "colab": {
          "base_uri": "https://localhost:8080/"
        },
        "id": "lmtsfV7r6Gz-",
        "outputId": "4b893b85-6289-4197-8691-44dc9f0430ed"
      },
      "execution_count": 5,
      "outputs": [
        {
          "output_type": "execute_result",
          "data": {
            "text/plain": [
              "81"
            ]
          },
          "metadata": {},
          "execution_count": 5
        }
      ]
    },
    {
      "cell_type": "code",
      "source": [
        "def func_1(b, c = 5, d=\"xhfal\"): #함수의 밸류가 기본적으로 입력되어있는 상태\n",
        "  return b + c\n",
        "\n",
        "\n",
        "print(func_1(5, 3, \"hello\"))\n",
        "\n",
        "print(func_1(5, 3))\n",
        "\n",
        "print(func_1(5)) #이미 c와 d에 값이 있기때문에 굳이 넣지않아도 문제없이 출력된다\n"
      ],
      "metadata": {
        "colab": {
          "base_uri": "https://localhost:8080/"
        },
        "id": "k00VzCHn6reM",
        "outputId": "ec316137-4a9e-407c-e945-63efbd77a2dd"
      },
      "execution_count": 9,
      "outputs": [
        {
          "output_type": "stream",
          "name": "stdout",
          "text": [
            "8\n",
            "8\n",
            "10\n"
          ]
        }
      ]
    },
    {
      "cell_type": "code",
      "source": [
        "def func_1 (a, b, c):\n",
        "  return a - b\n",
        "\n",
        "print(func_1(5, 4, 1))\n",
        "print(func_1(c = 1, b = 4, a = 6)) # abc의 위치를 바꾸어도 딱히 계산에 문제가 생기지않는다,\n",
        "print(func_1(3, c = 123, b = 0)) # 일부의 위치만 바꾸는 것 또한 문제없다."
      ],
      "metadata": {
        "colab": {
          "base_uri": "https://localhost:8080/"
        },
        "id": "6-nZVtwr7CAx",
        "outputId": "ffcfac89-9725-4cda-f77d-022116bd18e2"
      },
      "execution_count": 12,
      "outputs": [
        {
          "output_type": "stream",
          "name": "stdout",
          "text": [
            "1\n",
            "2\n",
            "3\n"
          ]
        }
      ]
    },
    {
      "cell_type": "code",
      "source": [],
      "metadata": {
        "id": "4ZDA3eii7u4R"
      },
      "execution_count": null,
      "outputs": []
    }
  ]
}