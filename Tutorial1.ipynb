{
  "nbformat": 4,
  "nbformat_minor": 0,
  "metadata": {
    "colab": {
      "provenance": []
    },
    "kernelspec": {
      "name": "python3",
      "display_name": "Python 3"
    },
    "language_info": {
      "name": "python"
    }
  },
  "cells": [
    {
      "cell_type": "code",
      "execution_count": 27,
      "metadata": {
        "colab": {
          "base_uri": "https://localhost:8080/"
        },
        "id": "PsllRebr2hX-",
        "outputId": "a35a9926-d505-444a-bc7c-fbb4cc6ef6f6"
      },
      "outputs": [
        {
          "output_type": "stream",
          "name": "stdout",
          "text": [
            "523\n",
            "U\n",
            "4.56\n"
          ]
        }
      ],
      "source": [
        "tu = (24, \"dsu\", 4.56, (2, 3), \"DB\")\n",
        "\n",
        "li = [\"dsu\", 523, 3.14, 765]\n",
        "\n",
        "st = 'DSU'\n",
        "st = \"DSU\"\n",
        "st = \"\"\"DSU\"\"\"\n",
        "\n",
        "print(tu[0])\n",
        "print(li[1])\n",
        "print(st[2])\n",
        "print(tu[-3])"
      ]
    },
    {
      "cell_type": "code",
      "source": [
        "print(tu[0:2])\n",
        "print(li[1:-1])"
      ],
      "metadata": {
        "colab": {
          "base_uri": "https://localhost:8080/"
        },
        "id": "uMem8u185VWG",
        "outputId": "9b3fec55-cfec-4a88-84af-3ca63131b7b8"
      },
      "execution_count": 21,
      "outputs": [
        {
          "output_type": "stream",
          "name": "stdout",
          "text": [
            "(24, 'dsu')\n",
            "[523, 3.14]\n"
          ]
        }
      ]
    },
    {
      "cell_type": "code",
      "source": [
        "print(tu[2:])\n",
        "print(li[:2])"
      ],
      "metadata": {
        "colab": {
          "base_uri": "https://localhost:8080/"
        },
        "id": "aB1Ssuik70i3",
        "outputId": "cfe0e3c3-be75-4762-f6a7-6e5421b7760a"
      },
      "execution_count": 22,
      "outputs": [
        {
          "output_type": "stream",
          "name": "stdout",
          "text": [
            "(4.56, (2, 3), 'DB')\n",
            "['dsu', 523]\n"
          ]
        }
      ]
    },
    {
      "cell_type": "code",
      "source": [
        "print(tu[:])"
      ],
      "metadata": {
        "colab": {
          "base_uri": "https://localhost:8080/"
        },
        "id": "ZtuT-v8U73-P",
        "outputId": "7313a01e-bb39-4c50-faca-727f27f8e57a"
      },
      "execution_count": 23,
      "outputs": [
        {
          "output_type": "stream",
          "name": "stdout",
          "text": [
            "(24, 'dsu', 4.56, (2, 3), 'DB')\n"
          ]
        }
      ]
    },
    {
      "cell_type": "code",
      "source": [
        "li_2 = li\n",
        "\n",
        "print(li_2)"
      ],
      "metadata": {
        "colab": {
          "base_uri": "https://localhost:8080/"
        },
        "id": "4i0rowhi753_",
        "outputId": "36632a51-133a-45fb-e53c-6f4023190a4e"
      },
      "execution_count": 28,
      "outputs": [
        {
          "output_type": "stream",
          "name": "stdout",
          "text": [
            "['dsu', 523, 3.14, 765]\n"
          ]
        }
      ]
    },
    {
      "cell_type": "code",
      "source": [
        "t = [1, 2, 3, 4, 5]\n",
        "\n",
        "print(6 in t)\n",
        "print(3 in t)\n",
        "print(3 not in t)"
      ],
      "metadata": {
        "colab": {
          "base_uri": "https://localhost:8080/"
        },
        "id": "C-w1Wh6z8AHn",
        "outputId": "9c0c6d8e-fff7-4e23-acfd-2978284f8890"
      },
      "execution_count": 33,
      "outputs": [
        {
          "output_type": "stream",
          "name": "stdout",
          "text": [
            "False\n",
            "True\n",
            "False\n"
          ]
        }
      ]
    },
    {
      "cell_type": "code",
      "source": [
        "a = \"abcde\"\n",
        "\n",
        "print(\"c\" in a)\n",
        "print(\"cd\" in a)\n",
        "print(\"ac\" in a)"
      ],
      "metadata": {
        "colab": {
          "base_uri": "https://localhost:8080/"
        },
        "id": "1q9t77ya8z3T",
        "outputId": "8403091e-5764-43ac-d45f-843c12c33e11"
      },
      "execution_count": 34,
      "outputs": [
        {
          "output_type": "stream",
          "name": "stdout",
          "text": [
            "True\n",
            "True\n",
            "False\n"
          ]
        }
      ]
    },
    {
      "cell_type": "code",
      "source": [
        "(1, 2, 3) + (4, 5, 6)"
      ],
      "metadata": {
        "colab": {
          "base_uri": "https://localhost:8080/"
        },
        "id": "Djk3I6Kk9IrN",
        "outputId": "9bd76dbe-c2f2-467a-dcc2-8fb4a28097d8"
      },
      "execution_count": 36,
      "outputs": [
        {
          "output_type": "execute_result",
          "data": {
            "text/plain": [
              "(1, 2, 3, 4, 5, 6)"
            ]
          },
          "metadata": {},
          "execution_count": 36
        }
      ]
    },
    {
      "cell_type": "code",
      "source": [
        "[1, 2, 3] + [4, 5, 6]"
      ],
      "metadata": {
        "colab": {
          "base_uri": "https://localhost:8080/"
        },
        "id": "tw3MgOHQ9Wp-",
        "outputId": "607fc29c-4052-4091-c88f-f974893f1a37"
      },
      "execution_count": 37,
      "outputs": [
        {
          "output_type": "execute_result",
          "data": {
            "text/plain": [
              "[1, 2, 3, 4, 5, 6]"
            ]
          },
          "metadata": {},
          "execution_count": 37
        }
      ]
    },
    {
      "cell_type": "code",
      "source": [
        "\"Hello\" + \" \" + \"World\""
      ],
      "metadata": {
        "colab": {
          "base_uri": "https://localhost:8080/",
          "height": 35
        },
        "id": "jHSvvi819Yx2",
        "outputId": "c1c0b15c-b645-4de4-a6fd-9cadb801a549"
      },
      "execution_count": 40,
      "outputs": [
        {
          "output_type": "execute_result",
          "data": {
            "text/plain": [
              "'Hello World'"
            ],
            "application/vnd.google.colaboratory.intrinsic+json": {
              "type": "string"
            }
          },
          "metadata": {},
          "execution_count": 40
        }
      ]
    },
    {
      "cell_type": "code",
      "source": [],
      "metadata": {
        "id": "Sdg2t2Ju9eqO"
      },
      "execution_count": null,
      "outputs": []
    }
  ]
}