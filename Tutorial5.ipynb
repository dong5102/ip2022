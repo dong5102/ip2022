{
  "nbformat": 4,
  "nbformat_minor": 0,
  "metadata": {
    "colab": {
      "provenance": []
    },
    "kernelspec": {
      "name": "python3",
      "display_name": "Python 3"
    },
    "language_info": {
      "name": "python"
    }
  },
  "cells": [
    {
      "cell_type": "code",
      "execution_count": 5,
      "metadata": {
        "colab": {
          "base_uri": "https://localhost:8080/"
        },
        "id": "lK_2tG6ozusj",
        "outputId": "6066688c-9685-4e92-a963-a4bd87160c0d"
      },
      "outputs": [
        {
          "output_type": "stream",
          "name": "stdout",
          "text": [
            "x = 3\n",
            "X equals something else\n",
            "This is outside the ‘if'\n"
          ]
        }
      ],
      "source": [
        "x = int(input(\"x = \"))\n",
        "\n",
        "\n",
        "\n",
        "if x == 1:\n",
        "  print(\"X equals 1\")\n",
        "elif x == 2:\n",
        "  print(\"X equals 2\")\n",
        "else:\n",
        "  print(\"X equals something else\")\n",
        "print(\"This is outside the ‘if'\")"
      ]
    },
    {
      "cell_type": "code",
      "source": [
        "x = int(input(\"x = \"))\n",
        "\n",
        "while x < 8:\n",
        "  print(x, \"still in the loop\")\n",
        "  x = x + 1"
      ],
      "metadata": {
        "colab": {
          "base_uri": "https://localhost:8080/"
        },
        "id": "6Fol6Vu7z9n2",
        "outputId": "56e6e886-89eb-48ab-dcef-e93eb755103b"
      },
      "execution_count": 10,
      "outputs": [
        {
          "name": "stdout",
          "output_type": "stream",
          "text": [
            "x = 9\n"
          ]
        }
      ]
    },
    {
      "cell_type": "code",
      "source": [],
      "metadata": {
        "id": "XbPMqAC90fEK"
      },
      "execution_count": null,
      "outputs": []
    }
  ]
}