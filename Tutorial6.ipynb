{
  "nbformat": 4,
  "nbformat_minor": 0,
  "metadata": {
    "colab": {
      "provenance": []
    },
    "kernelspec": {
      "name": "python3",
      "display_name": "Python 3"
    },
    "language_info": {
      "name": "python"
    }
  },
  "cells": [
    {
      "cell_type": "code",
      "execution_count": 13,
      "metadata": {
        "colab": {
          "base_uri": "https://localhost:8080/"
        },
        "id": "jt650ldS1D89",
        "outputId": "978ef923-6d95-4d9b-a2d3-b8706dbad8ff"
      },
      "outputs": [
        {
          "output_type": "stream",
          "name": "stdout",
          "text": [
            "2\n",
            "4\n",
            "8\n",
            "16\n",
            "a\n",
            "s\n",
            "d\n"
          ]
        }
      ],
      "source": [
        "a = 2\n",
        "b = \"asd\"\n",
        "\n",
        "\n",
        "\n",
        "for i in range(0, 4):\n",
        "  print(a)\n",
        "  a += a\n",
        "\n",
        "for j in b:\n",
        "  print(j)"
      ]
    },
    {
      "cell_type": "code",
      "source": [
        "for (x, y) in [(\"a\",1), (\"b\",2), (\"c\",3), (\"d\",4)]:\n",
        "  print(x, y) # <item>는 하나일 필요는 없다"
      ],
      "metadata": {
        "colab": {
          "base_uri": "https://localhost:8080/"
        },
        "id": "0Z_3rPq91WOr",
        "outputId": "c4fda6c2-db05-4460-cc45-69125c4e8409"
      },
      "execution_count": 8,
      "outputs": [
        {
          "output_type": "stream",
          "name": "stdout",
          "text": [
            "a 1\n",
            "b 2\n",
            "c 3\n",
            "d 4\n"
          ]
        }
      ]
    },
    {
      "cell_type": "code",
      "source": [
        "a = 2\n",
        "b = int(input(\"2의 x승의 값 출력------ x의 값 : \"))\n",
        "for i in range(0, b):\n",
        "  print(a)\n",
        "  a += a"
      ],
      "metadata": {
        "colab": {
          "base_uri": "https://localhost:8080/"
        },
        "id": "nlcvbhCA1ut6",
        "outputId": "16b77f6a-f5cf-4128-80c1-2800d973e97d"
      },
      "execution_count": 12,
      "outputs": [
        {
          "output_type": "stream",
          "name": "stdout",
          "text": [
            "2의 x승의 값 출력------ x의 값 : 4\n",
            "2\n",
            "4\n",
            "8\n",
            "16\n"
          ]
        }
      ]
    },
    {
      "cell_type": "code",
      "source": [],
      "metadata": {
        "id": "nHNK3wyV2bVb"
      },
      "execution_count": null,
      "outputs": []
    }
  ]
}